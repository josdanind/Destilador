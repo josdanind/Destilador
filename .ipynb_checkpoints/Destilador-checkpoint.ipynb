{
 "cells": [
  {
   "cell_type": "markdown",
   "metadata": {},
   "source": [
    "# Destilador De Alcohol\n",
    "\n",
    "## 1. "
   ]
  },
  {
   "cell_type": "code",
   "execution_count": 70,
   "metadata": {},
   "outputs": [
    {
     "name": "stdout",
     "output_type": "stream",
     "text": [
      "\u001b[H\u001b[2J------------------------------------------------------------\n",
      "| setPoint_(°C) | Temperatura_(°C) | Output | Tiempo_(min) |\n",
      "------------------------------------------------------------\n",
      "|     30.00     |      27.25       |  0.00  |     0.00     |\n",
      "------------------------------------------------------------\n",
      "\u001b[H\u001b[2J------------------------------------------------------------\n",
      "| setPoint_(°C) | Temperatura_(°C) | Output | Tiempo_(min) |\n",
      "------------------------------------------------------------\n",
      "|     30.00     |      27.25       |  3.30  |     0.02     |\n",
      "------------------------------------------------------------\n",
      "\u001b[H\u001b[2J------------------------------------------------------------\n",
      "| setPoint_(°C) | Temperatura_(°C) | Output | Tiempo_(min) |\n",
      "------------------------------------------------------------\n",
      "|     30.00     |      27.25       |  3.85  |     0.03     |\n",
      "------------------------------------------------------------\n",
      "\u001b[H\u001b[2J------------------------------------------------------------\n",
      "| setPoint_(°C) | Temperatura_(°C) | Output | Tiempo_(min) |\n",
      "------------------------------------------------------------\n",
      "|     30.00     |      27.31       |  4.33  |     0.05     |\n",
      "------------------------------------------------------------\n",
      "\u001b[H\u001b[2J------------------------------------------------------------\n",
      "| setPoint_(°C) | Temperatura_(°C) | Output | Tiempo_(min) |\n",
      "------------------------------------------------------------\n",
      "|     30.00     |      27.31       |  4.86  |     0.07     |\n",
      "------------------------------------------------------------\n",
      "^C\n",
      "Adios\n"
     ]
    }
   ],
   "source": [
    "!python3 index.py -t 30"
   ]
  },
  {
   "cell_type": "code",
   "execution_count": 36,
   "metadata": {},
   "outputs": [
    {
     "name": "stdout",
     "output_type": "stream",
     "text": [
      "030520.dat\n"
     ]
    }
   ],
   "source": [
    "import time\n",
    "\n",
    "fecha = time.strftime(\"%d%m%y\") + \".dat\"\n",
    "print(fecha)"
   ]
  },
  {
   "cell_type": "code",
   "execution_count": null,
   "metadata": {},
   "outputs": [],
   "source": []
  }
 ],
 "metadata": {
  "kernelspec": {
   "display_name": "Python 3",
   "language": "python",
   "name": "python3"
  },
  "language_info": {
   "codemirror_mode": {
    "name": "ipython",
    "version": 3
   },
   "file_extension": ".py",
   "mimetype": "text/x-python",
   "name": "python",
   "nbconvert_exporter": "python",
   "pygments_lexer": "ipython3",
   "version": "3.7.3"
  }
 },
 "nbformat": 4,
 "nbformat_minor": 4
}
